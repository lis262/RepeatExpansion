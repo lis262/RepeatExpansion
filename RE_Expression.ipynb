{
 "cells": [
  {
   "cell_type": "markdown",
   "metadata": {},
   "source": [
    "## Here we get expression level of interested genes from internal and public datasets"
   ]
  },
  {
   "cell_type": "code",
   "execution_count": 1,
   "metadata": {},
   "outputs": [],
   "source": [
    "import pandas as pd\n",
    "import math\n",
    "import re, os\n",
    "import seaborn as sns\n",
    "import matplotlib.pyplot as plt\n",
    "plt.style.use('ggplot')"
   ]
  },
  {
   "cell_type": "markdown",
   "metadata": {},
   "source": [
    "### First We define gene names and build {geneid:genename} dictionary"
   ]
  },
  {
   "cell_type": "code",
   "execution_count": 2,
   "metadata": {},
   "outputs": [],
   "source": [
    "# define interested genes\n",
    "interest_genes = ['Cdk9', 'Cdk12', 'Supt4h1', 'Supt5h', 'Elof1', 'Tcea2', 'Brca1', \n",
    "                  'Bard1', 'EloA', 'parp1', 'Supt16H', 'Ercc6', 'Ercc5', 'Crebbp', \n",
    "                  'Ep300', 'Hmgb1', 'Smarcad1', 'Setx', 'Dhx9']\n",
    "interest_genes = [g.upper() for g in interest_genes]"
   ]
  },
  {
   "cell_type": "code",
   "execution_count": 3,
   "metadata": {},
   "outputs": [],
   "source": [
    "# 1. get gene id and name mapping for human and build id to name dictionary\n",
    "gff = '/home/lis262/Downloads/human_v30.gff'\n",
    "map_fn = '/hpc/grid/hgcb/workspace/users/shangzhong/RE/HD/human_gene_id_name_map.txt'"
   ]
  },
  {
   "cell_type": "code",
   "execution_count": 4,
   "metadata": {},
   "outputs": [],
   "source": [
    "def get_human_gene_id_name_map(gff, id_fn):\n",
    "    '''this function parse the gff file and create a {genename: geneid} dictionary\n",
    "    * gff: input file\n",
    "    * id_fn: id mapping file. has 2 columns. '''\n",
    "    if not os.path.exists(id_fn):\n",
    "        id_df = pd.read_csv(fn, sep='\\t',comment='#',header=None)\n",
    "        id_df = id_df[id_df[2].values=='gene']\n",
    "        id_df = id_df.reset_index(drop=True)\n",
    "        id_df['id'] = id_df[8].map(lambda x: re.search('(?<=ID=).+?(?=\\.)', x).group(0))\n",
    "        id_df['name'] = id_df[8].map(lambda x: re.search('(?<=gene_name=).+?(?=;)', x).group(0))\n",
    "        id_df[['id','name']].to_csv(map_fn, sep='\\t', index=False)\n",
    "    else:\n",
    "        id_df = pd.read_csv(id_fn, sep='\\t',header=0)\n",
    "\n",
    "    id2name_dic = id_df.set_index('id')['name'].to_dict()\n",
    "    return id2name_dic\n",
    "id2name_dic = get_human_gene_id_name_map(gff, map_fn)"
   ]
  },
  {
   "cell_type": "code",
   "execution_count": null,
   "metadata": {},
   "outputs": [],
   "source": [
    "# # define interested genes\n",
    "# interest_genes = ['CDK9', 'CDK12', 'SUPT4H1', 'SUPT5H', 'ELOF1', 'TCEA2', 'BRCA1', \\\n",
    "#                   'BARD1', 'ELOA', 'PARP1', 'SUPT16H', 'ERCC6', 'ERCC5', 'CREBBP', \\\n",
    "#                   'EP300', 'HMGB1', 'SMARCAD1', 'SETX', 'DHX9']"
   ]
  },
  {
   "cell_type": "code",
   "execution_count": 161,
   "metadata": {},
   "outputs": [],
   "source": [
    "# BER genes\n",
    "interest_genes = ['UNG', 'SMUG1', 'MBD4', 'TDG','OGG1', 'MUTYH', 'NTHL1',\n",
    "                 'MPG', 'NEIL1', 'NEIL2','NEIL3']\n",
    "\n",
    "# # NER genes\n",
    "# interest_genes = ['XPC', 'RAD23B', 'CETN2', 'RAD23A', 'XPA', 'DDB1', 'DDB2',\n",
    "#                  'RPA1', 'RPA2', 'RPA3', 'ERCC3','ERCC2','GTF2H1','GTF2H2',\n",
    "#                  'GTF2H3','GTF2H4', 'GTF2H5','CDK7','CCNH','MNAT1','ERCC5',\n",
    "#                  'ERCC1','ERCC4','LIG1','ERCC8','ERCC6','UVSSA','XAB2','MMS19']"
   ]
  },
  {
   "cell_type": "markdown",
   "metadata": {},
   "source": [
    "### Process LIBER data sets. \n",
    "This datasets has 4 phenotypes: control, Biopolar, MDD(major depressive disorder), schizophrenia. There are mainly two races: caucasian and afrian america. Michael Nagle has done quantification for these samples. The procedure is as follows: 1. align reads to the genome. 2. count the reads. 3. transfer the count to tpm.\n",
    "The procedure for this code is to use the tpm expression matrix as input, then combine it with the clinical information to plot the expression level for those genes we are interested that could be potential targets for repeat expansion."
   ]
  },
  {
   "cell_type": "markdown",
   "metadata": {},
   "source": [
    "Here we build a dataframe, the format is as follows: 1st column is sample ids, 2nd column is phenotype, the rest of the columns are tpm of interested genes. Then for each gene we can do a boxplot grouped by phenotype."
   ]
  },
  {
   "cell_type": "code",
   "execution_count": 163,
   "metadata": {},
   "outputs": [],
   "source": [
    "def liber_build_interested_genes_tpm_df(tpm_fn, clinical_fn, genes, id2name_dic, race):\n",
    "    '''this function builds the tpm dataframe of interested genes\n",
    "    * genes: a list of gene names\n",
    "    * id2name_dic: dictionary of {geneid: genename}\n",
    "    '''\n",
    "    meta_df = pd.read_csv(clinical_fn, sep='\\t')\n",
    "    meta_df['BrNum'] = meta_df['BrNum'].map(lambda x: 'Br' + str(x))\n",
    "    #-------- original # of samples\n",
    "    # meta_df['Race'].value_counts()\n",
    "    #-------- extract expression of interested genes, replace geneid with gene name\n",
    "    tpm_df = pd.read_csv(tpm_fn, sep='\\t',header=0,index_col=0,low_memory=False)\n",
    "    # add gene gene\n",
    "    tpm_df['name'] = tpm_df.index.map(lambda x: id2name_dic[x].upper() if x in id2name_dic else x)\n",
    "    int_tpm_df = tpm_df[tpm_df['name'].isin(genes)]\n",
    "    int_tpm_df.index = int_tpm_df['name']\n",
    "    del int_tpm_df['name']\n",
    "    #------- extract interested samples' clinical information\n",
    "    int_samples = int_tpm_df.columns.tolist()\n",
    "    int_meta_df = meta_df.query('Race == @race and BrNum in @int_samples')\n",
    "    int_meta_df = int_meta_df.reset_index(drop=True)\n",
    "    int_sample_dic = {k:list(v) for k,v in int_meta_df.groupby('DxGroup')['BrNum']} # {phenotype:[samples]}\n",
    "    # build dataframe, the first column is samples id, the 2nd is phenotype, the others are genes.\n",
    "    # values are tpm for each gene\n",
    "    g_df = int_meta_df[['BrNum','DxGroup']]\n",
    "    g_df = g_df.reset_index(drop=True)\n",
    "    print(g_df['DxGroup'].value_counts())\n",
    "    for g in genes:\n",
    "        brnum_tpm_dic = int_tpm_df.loc[g,:].to_dict()\n",
    "        g_df[g] = g_df['BrNum'].map(lambda x: brnum_tpm_dic[x] if x in brnum_tpm_dic else None)\n",
    "    return g_df, int_sample_dic, int_tpm_df"
   ]
  },
  {
   "cell_type": "code",
   "execution_count": 164,
   "metadata": {},
   "outputs": [
    {
     "name": "stdout",
     "output_type": "stream",
     "text": [
      "process caucation samples\n",
      "MDD        122\n",
      "Schizo      86\n",
      "Control     80\n",
      "Bipolar     54\n",
      "Name: DxGroup, dtype: int64\n",
      "process african american samples\n",
      "Control    96\n",
      "Schizo     76\n",
      "MDD        13\n",
      "Bipolar     5\n",
      "Name: DxGroup, dtype: int64\n"
     ]
    }
   ],
   "source": [
    "cauc_tpm_fn = '/home/lis262/Downloads/TPM_counts_CAUC.tsv'\n",
    "aa_tpm_fn = '/home/lis262/Downloads/TPM_counts_AA.tsv'\n",
    "clinical_fn = '/home/lis262/Downloads/LIBD_DemographicClinicalData_746.csv'\n",
    "print('process caucation samples')\n",
    "cauc_tpm_df, cauc_sample_dic, cauc_pivot_df = liber_build_interested_genes_tpm_df(cauc_tpm_fn, clinical_fn, interest_genes, id2name_dic, 'CAUC')\n",
    "print('process african american samples')\n",
    "aa_tpm_df, aa_sample_dic, aa_pivot_df = liber_build_interested_genes_tpm_df(aa_tpm_fn, clinical_fn, interest_genes, id2name_dic, 'AA')\n",
    "#  merge the tpm of CAUC and AA\n",
    "liber_int_tpm_df = cauc_tpm_df.append(aa_tpm_df)\n",
    "liber_int_pivot_df = pd.concat([cauc_pivot_df, aa_pivot_df], axis=1)"
   ]
  },
  {
   "cell_type": "code",
   "execution_count": 165,
   "metadata": {},
   "outputs": [],
   "source": [
    "# get median tpm for each gene\n",
    "liber_sample_dic = {**cauc_sample_dic, **aa_sample_dic}\n",
    "keys = liber_sample_dic.keys()\n",
    "for k in keys:\n",
    "    liber_int_pivot_df[k] = liber_int_pivot_df[liber_sample_dic[k]].median(axis=1)"
   ]
  },
  {
   "cell_type": "code",
   "execution_count": 166,
   "metadata": {},
   "outputs": [
    {
     "data": {
      "image/png": "[encoded data removed]",
      "text/plain": [
       "<Figure size 432x288 with 2 Axes>"
      ]
     },
     "metadata": {
      "needs_background": "light"
     },
     "output_type": "display_data"
    }
   ],
   "source": [
    "ax = sns.heatmap(liber_int_pivot_df.loc[interest_genes, keys], cmap='Blues')\n",
    "_ = ax.set_title('Liber expression (tpm)')\n",
    "_ = ax.set_ylabel('')"
   ]
  },
  {
   "cell_type": "code",
   "execution_count": 167,
   "metadata": {},
   "outputs": [],
   "source": [
    "def box_plot(columns, figsize, df, interest_genes, pheno):\n",
    "    '''\n",
    "    * columns: in the plot how many in each row.\n",
    "    * pheno: name of phenotype column indicate if it's disease or not.\n",
    "    '''\n",
    "    columns = 3\n",
    "    rows = math.ceil(len(interest_genes))\n",
    "    i = 0\n",
    "    # fig = plt.figure()\n",
    "    axes = []\n",
    "    fig = plt.figure(figsize=(10, 80))\n",
    "    for g in interest_genes:\n",
    "        i += 1\n",
    "        ax_i = fig.add_subplot(rows, columns, i)\n",
    "        g_df = df[[pheno,g]]\n",
    "\n",
    "        ax = g_df.boxplot(by=pheno,grid=True, ax=ax_i)\n",
    "        figs = ax.get_figure()\n",
    "        figs.suptitle('')\n",
    "        ax.set_title(g)\n",
    "        ax.set_xlabel('')\n",
    "        if i % 3 == 1:\n",
    "            ax.set_ylabel('tpm')"
   ]
  },
  {
   "cell_type": "code",
   "execution_count": 168,
   "metadata": {},
   "outputs": [],
   "source": [
    "# box_plot(3, (10, 80), liber_int_tpm_df, interest_genes, 'DxGroup')"
   ]
  },
  {
   "cell_type": "code",
   "execution_count": 169,
   "metadata": {},
   "outputs": [],
   "source": [
    "# # save figure results\n",
    "# for g in interest_genes:\n",
    "#     i += 1\n",
    "#     g_df = liber_int_tpm_df[['DxGroup',g]]\n",
    "    \n",
    "#     ax = g_df.boxplot(by='DxGroup',grid=True)\n",
    "#     figs = ax.get_figure()\n",
    "#     figs.suptitle('')\n",
    "#     ax.set_title(g + ' (LIBER)')\n",
    "#     ax.set_xlabel('')\n",
    "#     ax.set_ylabel('tpm')\n",
    "#     plt.savefig('/home/lis262/RE/LIBER/'+ g + '.png')"
   ]
  },
  {
   "cell_type": "markdown",
   "metadata": {},
   "source": [
    "### Process AMP-AD datasets\n",
    "This datasets has two major subsets: cerebellum and cortex"
   ]
  },
  {
   "cell_type": "code",
   "execution_count": 170,
   "metadata": {},
   "outputs": [],
   "source": [
    "def build_myo_tpm_df(clinical_fn, tpm_fn, id2name_dic, genes):\n",
    "    '''this function builds the tpm dataframe of interested genes\n",
    "    * genes: a list of gene names\n",
    "    * id2name_dic: dictionary of {geneid: genename}\n",
    "    '''\n",
    "    clinical_df = pd.read_csv(clinical_fn, sep='\\t')\n",
    "    tpm_df = pd.read_csv(tpm_fn, sep='\\t', index_col=0)\n",
    "    del tpm_df['meanTpm']\n",
    "    tpm_df.index = tpm_df.index.map(lambda x: id2name_dic[x] if x in id2name_dic else x)\n",
    "    samples = tpm_df.columns.tolist()\n",
    "    try:\n",
    "        clinical_df['sample'] = clinical_df['SampleID'].map(lambda x: \\\n",
    "                        x.split('_')[1] + '_' + x.split('_')[0])\n",
    "    except:\n",
    "        clinical_df['sample'] = clinical_df['ID'].map(lambda x: \\\n",
    "                        x.split('_')[1] + '_' + x.split('_')[0])\n",
    "    clinical_df = clinical_df.query('sample in @samples')\n",
    "    clinical_df = clinical_df.reset_index(drop=True)\n",
    "    sample_dic = {k:list(v) for k,v in clinical_df.groupby('Diagnosis')['sample']} # {phenotype:[samples]}\n",
    "    print(clinical_df['Diagnosis'].value_counts())\n",
    "    g_df = clinical_df[['sample','Diagnosis']]\n",
    "    g_df = g_df.reset_index(drop=True)\n",
    "    for g in genes:\n",
    "        tpm_dic = tpm_df.loc[g,:].to_dict()\n",
    "        g_df.loc[:,g] = g_df.loc[:,'sample'].map(lambda x: tpm_dic[x])\n",
    "    return g_df, sample_dic, tpm_df"
   ]
  },
  {
   "cell_type": "code",
   "execution_count": 171,
   "metadata": {},
   "outputs": [
    {
     "name": "stdout",
     "output_type": "stream",
     "text": [
      "AD         76\n",
      "Control    67\n",
      "Name: Diagnosis, dtype: int64\n"
     ]
    }
   ],
   "source": [
    "cerebellum_fn = '/hpc/grid/hgcb/workspace/projects/P021_MAYO_Banner_RNAseq/cerebellum/genetic_omic_data/salmon_quants/MAYO_cerebellum_group.ID_adj_lane_RIN_Gender_age_rmRIN6.5_salmon_TPM_matrix_gene_level_summarized.txt'\n",
    "cerebellum_clinical_fn = '/hpc/grid/hgcb/workspace/projects/P021_MAYO_Banner_RNAseq/cerebellum/clinical_data/MayoRNAseq_RNAseq_CBE_covariates_updatedMay2017.csv'\n",
    "cerebellum_tpm_df, cerebellum_sample_dic, cerebellum_pivot_df = \\\n",
    "                   build_myo_tpm_df(cerebellum_clinical_fn, cerebellum_fn, id2name_dic, interest_genes)"
   ]
  },
  {
   "cell_type": "code",
   "execution_count": 172,
   "metadata": {},
   "outputs": [
    {
     "data": {
      "image/png": "[encoded data removed]",
      "text/plain": [
       "<Figure size 432x288 with 2 Axes>"
      ]
     },
     "metadata": {
      "needs_background": "light"
     },
     "output_type": "display_data"
    }
   ],
   "source": [
    "for k, v in cerebellum_sample_dic.items():\n",
    "    cerebellum_pivot_df[k] = cerebellum_pivot_df[v].median(axis=1)\n",
    "ax = sns.heatmap(cerebellum_pivot_df.loc[interest_genes, cerebellum_sample_dic.keys()], cmap='Blues')\n",
    "_ = ax.set_title('MYO cerebellum expression (tpm)')\n",
    "_ = ax.set_ylabel('')"
   ]
  },
  {
   "cell_type": "code",
   "execution_count": 173,
   "metadata": {},
   "outputs": [],
   "source": [
    "# for g in interest_genes:\n",
    "#     g_df = cerebellum_tpm_df[['Diagnosis',g]]\n",
    "    \n",
    "#     ax = g_df.boxplot(by='Diagnosis',grid=True)\n",
    "#     figs = ax.get_figure()\n",
    "#     figs.suptitle('')\n",
    "#     ax.set_title(g + ' (MYO Cerebellum)')\n",
    "#     ax.set_xlabel('')\n",
    "#     ax.set_ylabel('tpm')\n",
    "#     plt.savefig('/home/lis262/RE/MYO_Cerebellum/'+ g + '.png')"
   ]
  },
  {
   "cell_type": "code",
   "execution_count": 174,
   "metadata": {},
   "outputs": [
    {
     "name": "stdout",
     "output_type": "stream",
     "text": [
      "AD         78\n",
      "Control    41\n",
      "Name: Diagnosis, dtype: int64\n"
     ]
    }
   ],
   "source": [
    "cortex_fn = '/hpc/grid/hgcb/workspace/projects/P021_MAYO_Banner_RNAseq/temporal_cortex/genetic_omic_data/salmon_quants/MAYO_tempCort_group.ID_adj_lane_RIN_Gender_age_rmRIN7.5_salmon_TPM_matrix_gene_level_summarized.txt'\n",
    "cortex_clinical_fn = '/hpc/grid/hgcb/workspace/projects/P021_MAYO_Banner_RNAseq/temporal_cortex/clinical_data/MayoRNAseq_RNAseq_TCX_covariates_updatedMay2017.csv'\n",
    "cortex_tpm_df, cortex_sample_dic, cortex_pivot_df = build_myo_tpm_df(cortex_clinical_fn, cortex_fn, id2name_dic, interest_genes)"
   ]
  },
  {
   "cell_type": "code",
   "execution_count": 175,
   "metadata": {},
   "outputs": [],
   "source": [
    "# for g in interest_genes:\n",
    "#     g_df = cortex_tpm_df[['Diagnosis',g]]\n",
    "    \n",
    "#     ax = g_df.boxplot(by='Diagnosis',grid=True)\n",
    "#     figs = ax.get_figure()\n",
    "#     figs.suptitle('')\n",
    "#     ax.set_title(g + ' (MYO Cortex)')\n",
    "#     ax.set_xlabel('')\n",
    "#     ax.set_ylabel('tpm')\n",
    "#     plt.savefig('/home/lis262/RE/MYO_Cortex/'+ g + '.png')"
   ]
  },
  {
   "cell_type": "code",
   "execution_count": 176,
   "metadata": {},
   "outputs": [
    {
     "data": {
      "image/png": "[encoded data removed]",
      "text/plain": [
       "<Figure size 432x288 with 2 Axes>"
      ]
     },
     "metadata": {
      "needs_background": "light"
     },
     "output_type": "display_data"
    }
   ],
   "source": [
    "for k, v in cortex_sample_dic.items():\n",
    "    cortex_pivot_df[k] = cortex_pivot_df[v].median(axis=1)\n",
    "ax = sns.heatmap(cortex_pivot_df.loc[interest_genes, cortex_sample_dic.keys()], cmap='Blues')\n",
    "_ = ax.set_title('MYO cortex expression (tpm)')\n",
    "_ = ax.set_ylabel('')"
   ]
  },
  {
   "cell_type": "code",
   "execution_count": 177,
   "metadata": {},
   "outputs": [],
   "source": [
    "# # plots for the cerebellum samples\n",
    "# box_plot(3, (10,80), cerebellum_tpm_df, interest_genes, 'Diagnosis')"
   ]
  },
  {
   "cell_type": "code",
   "execution_count": 178,
   "metadata": {},
   "outputs": [],
   "source": [
    "# # plot for the cortex data\n",
    "# box_plot(3, (10,80), cortex_tpm_df, interest_genes, 'Diagnosis')"
   ]
  },
  {
   "cell_type": "markdown",
   "metadata": {},
   "source": [
    "### Next, we analyze the GTEx datasets\n",
    "First plot the median tpm values"
   ]
  },
  {
   "cell_type": "code",
   "execution_count": 179,
   "metadata": {},
   "outputs": [],
   "source": [
    "gtx_tpm_med_fn = '/home/lis262/RE/GTeX/GTEx_tpm_median.txt'\n",
    "gtx_tpm_med_df = pd.read_csv(gtx_tpm_med_fn, sep='\\t', skiprows=[0,1], index_col=0)"
   ]
  },
  {
   "cell_type": "code",
   "execution_count": 180,
   "metadata": {},
   "outputs": [],
   "source": [
    "# extract tissues\n",
    "tissue = gtx_tpm_med_df.columns.tolist()\n",
    "tissue = [t for t in tissue if 'Brain' in t or 'Liver' in t]\n",
    "gtx_tpm_med_df = gtx_tpm_med_df[tissue]\n",
    "# change index name\n",
    "gtx_tpm_med_df.index = gtx_tpm_med_df.index.map(lambda x: x.split('.')[0])\n",
    "gtx_tpm_med_df.index = gtx_tpm_med_df.index.map(lambda x: id2name_dic[x] if x in id2name_dic else x)\n",
    "# extract expression for interested genes\n",
    "int_gtx_tpm_med_df = gtx_tpm_med_df.loc[interest_genes,:]"
   ]
  },
  {
   "cell_type": "code",
   "execution_count": 181,
   "metadata": {},
   "outputs": [
    {
     "data": {
      "image/png": "[encoded data removed]",
      "text/plain": [
       "<Figure size 432x288 with 2 Axes>"
      ]
     },
     "metadata": {
      "needs_background": "light"
     },
     "output_type": "display_data"
    }
   ],
   "source": [
    "ax = sns.heatmap(int_gtx_tpm_med_df, cmap='Blues')\n",
    "_ = ax.set_title('GTEx Expression (tpm)')\n",
    "_ = ax.set_ylabel('')"
   ]
  },
  {
   "cell_type": "markdown",
   "metadata": {},
   "source": [
    "### Next we analyze Huntington's Disease ArrayExpress data"
   ]
  },
  {
   "cell_type": "code",
   "execution_count": 182,
   "metadata": {},
   "outputs": [],
   "source": [
    "def build_HD_BA9_tpm_df(clinical_fn, tpm_fn, id2name_dic, genes):\n",
    "    '''this function builds the tpm dataframe of interested genes\n",
    "    * genes: a list of gene names\n",
    "    * id2name_dic: dictionary of {geneid: genename}\n",
    "    '''\n",
    "    clinical_df = pd.read_csv(clinical_fn, sep='\\t')\n",
    "    tpm_df = pd.read_csv(tpm_fn, sep='\\t', index_col=0)\n",
    "    tpm_df.index = tpm_df.index.map(lambda x: x.split('.')[0])\n",
    "    tpm_df.index = tpm_df.index.map(lambda x: id2name_dic[x] if x in id2name_dic else x)\n",
    "    samples = tpm_df.columns.tolist()\n",
    "    clinical_df.rename(columns={'Comment [Sample_title]': 'sample'}, inplace=True)\n",
    "    clinical_df['Diagnosis'] = clinical_df['sample'].map(lambda x: \\\n",
    "                    'HD' if x[0]=='H' else 'Control')\n",
    "    sample_dic = {k:list(v) for k,v in clinical_df.groupby('Diagnosis')['sample']} # {phenotype:[samples]}\n",
    "    print(clinical_df['Diagnosis'].value_counts())\n",
    "    g_df = clinical_df[['sample','Diagnosis']]\n",
    "    g_df = g_df.reset_index(drop=True)\n",
    "    for g in genes:\n",
    "        try:\n",
    "            tpm_dic = tpm_df.loc[g,:].to_dict()\n",
    "            g_df[g] = g_df['sample'].map(lambda x: tpm_dic[x])\n",
    "        except:\n",
    "            continue\n",
    "    return g_df, sample_dic, tpm_df"
   ]
  },
  {
   "cell_type": "code",
   "execution_count": 183,
   "metadata": {},
   "outputs": [
    {
     "name": "stdout",
     "output_type": "stream",
     "text": [
      "Control    49\n",
      "HD         20\n",
      "Name: Diagnosis, dtype: int64\n"
     ]
    }
   ],
   "source": [
    "hd_meta_fn = '/home/lis262/RE/HD_BA9/E-GEOD-64810.sdrf.txt'\n",
    "hd_nm_ct_fn = '/home/lis262/RE/HD_BA9/GSE64810_mlhd_DESeq2_norm_counts_adjust.txt'\n",
    "hd_nm_df, hd_sample_dic, hd_pivot_df = build_HD_BA9_tpm_df(hd_meta_fn, hd_nm_ct_fn, id2name_dic, interest_genes)"
   ]
  },
  {
   "cell_type": "code",
   "execution_count": 184,
   "metadata": {},
   "outputs": [
    {
     "data": {
      "image/png": "[encoded data removed]",
      "text/plain": [
       "<Figure size 432x288 with 2 Axes>"
      ]
     },
     "metadata": {
      "needs_background": "light"
     },
     "output_type": "display_data"
    }
   ],
   "source": [
    "for k,v in hd_sample_dic.items():\n",
    "    hd_pivot_df[k] = hd_pivot_df[v].median(axis=1)\n",
    "ax = sns.heatmap(hd_pivot_df.loc[interest_genes, hd_sample_dic.keys()], cmap='Blues')\n",
    "_ = ax.set_title('HD expression (normalized count)')\n",
    "_ = ax.set_ylabel('')"
   ]
  },
  {
   "cell_type": "code",
   "execution_count": 185,
   "metadata": {},
   "outputs": [],
   "source": [
    "# box_plot(3, (10, 80), hd_nm_df, interest_genes, 'Diagnosis')"
   ]
  },
  {
   "cell_type": "code",
   "execution_count": 186,
   "metadata": {},
   "outputs": [],
   "source": [
    "# for g in interest_genes:\n",
    "#     g_df = hd_nm_df[['Diagnosis',g]]\n",
    "    \n",
    "#     ax = g_df.boxplot(by='Diagnosis',grid=True)\n",
    "#     figs = ax.get_figure()\n",
    "#     figs.suptitle('')\n",
    "#     ax.set_title(g + ' (HD)')\n",
    "#     ax.set_xlabel('')\n",
    "#     ax.set_ylabel('tpm')\n",
    "#     plt.savefig('/home/lis262/RE/HD_BA9/'+ g + '.png')"
   ]
  },
  {
   "cell_type": "markdown",
   "metadata": {},
   "source": [
    "### Now let's merge all the data into one dataframe"
   ]
  },
  {
   "cell_type": "code",
   "execution_count": 187,
   "metadata": {},
   "outputs": [],
   "source": [
    "int_gtx_pivot_df = gtx_tpm_med_df.loc[interest_genes,:]\n",
    "# LIBER data\n",
    "int_liber_pivot_df = liber_int_pivot_df.loc[interest_genes, ['Bipolar','Control','MDD','Schizo']]\n",
    "int_liber_pivot_df = int_liber_pivot_df.rename(index=str,columns={'Bipolar':'LIBER_Biopolar','Control':'LIBER_Control',\n",
    "                                                                 'MDD':'LIBER_MDD', 'Schizo':'LIBER_Schizo'})\n",
    "# HD data\n",
    "hd_pivot_df = hd_pivot_df.rename(index=str, columns={'Control':'HD_control'})\n",
    "int_hd_pivot_df = hd_pivot_df.loc[interest_genes, ['HD_control', 'HD']]\n",
    "# cerebellum\n",
    "int_cerebellum_pivot_df = cerebellum_pivot_df.loc[interest_genes, ['AD','Control']]\n",
    "int_cerebellum_pivot_df = int_cerebellum_pivot_df.rename(index=str, columns={'AD':'Cereb_AD','Control':'Cereb_Control'})\n",
    "# cortex\n",
    "int_cortex_pivot_df = cortex_pivot_df.loc[interest_genes, ['AD','Control']]\n",
    "int_cortex_pivot_df = int_cortex_pivot_df.rename(index=str, columns={'AD':'Cortex_AD','Control':'Cortex_Control'})\n",
    "# merge\n",
    "int_final_df = pd.concat([int_gtx_pivot_df, int_liber_pivot_df, int_hd_pivot_df,\n",
    "                         int_cerebellum_pivot_df, int_cortex_pivot_df], axis=1)\n",
    "# output to file\n",
    "int_final_df.to_csv('~/data.csv', sep='\\t',)"
   ]
  }
 ],
 "metadata": {
  "kernelspec": {
   "display_name": "Python 3",
   "language": "python",
   "name": "python3"
  },
  "language_info": {
   "codemirror_mode": {
    "name": "ipython",
    "version": 3
   },
   "file_extension": ".py",
   "mimetype": "text/x-python",
   "name": "python",
   "nbconvert_exporter": "python",
   "pygments_lexer": "ipython3",
   "version": "3.7.3"
  }
 },
 "nbformat": 4,
 "nbformat_minor": 2
}
